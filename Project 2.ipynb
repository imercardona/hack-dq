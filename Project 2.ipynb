{
 "cells": [
  {
   "cell_type": "markdown",
   "metadata": {},
   "source": [
    "# Analysing 'Ask' vs 'Show' Posts in relation to user interactivity\n",
    "\n",
    "In this project, we're going to work with a data set of submissions posted on popular technology website Hacker Newss. \n",
    "This website is a site hosted by startup incubator Y Combinator where users submit their own 'posts' which other readers can vote and comment upon. Another website similar to this is Reddit.\n",
    "\n",
    "Hacker News is extremely popular in technology and startup circles and posts that are well voted and commented end up having hundreds of thousands of visits as a result.\n",
    "\n",
    "The data set is available online and can be found and downloaded here. This is a reduced version of the original dataset which actually contains almost 300k rows. Our dataset contains of approximately 20k rows as posts that did not receive any comments were removed.\n",
    "\n",
    "### Purpose of this project\n",
    "\n",
    "We're specifically interested in 'Ask Posts', which are posts where the user specifically looks for feedback by asking a question like:\n",
    "\n",
    "* How to get more followers on Instagram?\n",
    "* How to use Chrome's Developer Tools?\n",
    "* How to make a website responsive?\n",
    "\n",
    "On the other hand, 'Show Posts' are posts where the user specifically wants to showcase something to the community which the latter will provide feedback on. Some examples include:\n",
    "\n",
    "* Look at this programming language I created\n",
    "* This is how I'm spending my Covid-19 quarantine\n",
    "* I created a sports predicting model for football\n",
    "\n",
    "At the end of this project we'll be coming up with conclusions such as:\n",
    "\n",
    "* Which posts receive more comments on average? Ask Posts or Show Posts?\n",
    "* Does time of upload have any effect on the feedback a post receives?"
   ]
  },
  {
   "cell_type": "code",
   "execution_count": 1,
   "metadata": {},
   "outputs": [
    {
     "data": {
      "text/plain": [
       "[['id', 'title', 'url', 'num_points', 'num_comments', 'author', 'created_at'],\n",
       " ['12224879',\n",
       "  'Interactive Dynamic Video',\n",
       "  'http://www.interactivedynamicvideo.com/',\n",
       "  '386',\n",
       "  '52',\n",
       "  'ne0phyte',\n",
       "  '8/4/2016 11:52'],\n",
       " ['10975351',\n",
       "  'How to Use Open Source and Shut the Fuck Up at the Same Time',\n",
       "  'http://hueniverse.com/2016/01/26/how-to-use-open-source-and-shut-the-fuck-up-at-the-same-time/',\n",
       "  '39',\n",
       "  '10',\n",
       "  'josep2',\n",
       "  '1/26/2016 19:30'],\n",
       " ['11964716',\n",
       "  \"Florida DJs May Face Felony for April Fools' Water Joke\",\n",
       "  'http://www.thewire.com/entertainment/2013/04/florida-djs-april-fools-water-joke/63798/',\n",
       "  '2',\n",
       "  '1',\n",
       "  'vezycash',\n",
       "  '6/23/2016 22:20'],\n",
       " ['11919867',\n",
       "  'Technology ventures: From Idea to Enterprise',\n",
       "  'https://www.amazon.com/Technology-Ventures-Enterprise-Thomas-Byers/dp/0073523429',\n",
       "  '3',\n",
       "  '1',\n",
       "  'hswarna',\n",
       "  '6/17/2016 0:01']]"
      ]
     },
     "execution_count": 1,
     "metadata": {},
     "output_type": "execute_result"
    }
   ],
   "source": [
    "from csv import reader                      # import reader module\n",
    "\n",
    "opened_file = open('hacker_news.csv')       # open csv file 'hacker_news.csv\n",
    "read_file = reader(opened_file)             # use reader function to load the opened_file\n",
    "hn = list(read_file)                        # assign the read_file to a variable 'hn' in the form of a list\n",
    "hn[:5]                                      # display the first 5 rows of the dataset"
   ]
  },
  {
   "cell_type": "markdown",
   "metadata": {},
   "source": [
    "In order to remove the Headers of each row from our data, we will have to exclude it and separate it from our data, as below:"
   ]
  },
  {
   "cell_type": "code",
   "execution_count": 2,
   "metadata": {},
   "outputs": [
    {
     "name": "stdout",
     "output_type": "stream",
     "text": [
      "['id', 'title', 'url', 'num_points', 'num_comments', 'author', 'created_at']\n",
      "[['12224879', 'Interactive Dynamic Video', 'http://www.interactivedynamicvideo.com/', '386', '52', 'ne0phyte', '8/4/2016 11:52'], ['10975351', 'How to Use Open Source and Shut the Fuck Up at the Same Time', 'http://hueniverse.com/2016/01/26/how-to-use-open-source-and-shut-the-fuck-up-at-the-same-time/', '39', '10', 'josep2', '1/26/2016 19:30'], ['11964716', \"Florida DJs May Face Felony for April Fools' Water Joke\", 'http://www.thewire.com/entertainment/2013/04/florida-djs-april-fools-water-joke/63798/', '2', '1', 'vezycash', '6/23/2016 22:20'], ['11919867', 'Technology ventures: From Idea to Enterprise', 'https://www.amazon.com/Technology-Ventures-Enterprise-Thomas-Byers/dp/0073523429', '3', '1', 'hswarna', '6/17/2016 0:01'], ['10301696', 'Note by Note: The Making of Steinway L1037 (2007)', 'http://www.nytimes.com/2007/11/07/movies/07stein.html?_r=0', '8', '2', 'walterbell', '9/30/2015 4:12']]\n"
     ]
    }
   ],
   "source": [
    "headers = hn[0]     # Headers at index 0 set to 'headers'\n",
    "hn = hn[1:]         # First row removed\n",
    "print(headers)      # Output 'headers'\n",
    "print(hn[:5])       # Output first five rows"
   ]
  },
  {
   "cell_type": "markdown",
   "metadata": {},
   "source": [
    "### Part 1 - Remove Headers, Display Number of Posts\n",
    "\n",
    "Now that the headers are removed we can start filtering our data - a process called Data Cleaning.\n",
    "\n",
    "In order to make proper use of our data, we will have to separate the **Ask Posts** from the **Show Posts**. Posts that do not fall under this category will be listed as **Other Posts**.\n",
    "\n",
    "In the next part of code, three lists were created: `ask_posts`, `show_posts` and `other_posts`.\n",
    "\n",
    "To find such posts we're going to make use of the `startswith()` function to look for *ask hn* and *show hn* in the beginning of title.\n",
    "\n",
    "The number of posts under each category is listed below."
   ]
  },
  {
   "cell_type": "code",
   "execution_count": 3,
   "metadata": {},
   "outputs": [
    {
     "name": "stdout",
     "output_type": "stream",
     "text": [
      "Nr of ask posts is 1744\n",
      "Nr of show posts is 1162\n",
      "Nr of other posts is 17194\n"
     ]
    }
   ],
   "source": [
    "# Creating 3 empty lists\n",
    "\n",
    "ask_posts = []\n",
    "show_posts = []\n",
    "other_posts = []\n",
    "\n",
    "# Iterating through the data set without headers for the title of the post, which has index 1:\n",
    "for row in hn:\n",
    "    title = row[1]\n",
    "    if title.lower().startswith('ask hn'):\n",
    "        ask_posts.append(row)\n",
    "    elif title.lower().startswith('show hn'):\n",
    "        show_posts.append(row)\n",
    "    else:\n",
    "        other_posts.append(row)\n",
    "\n",
    "# Output for each category\n",
    "print('Nr of ask posts is', len(ask_posts))\n",
    "print('Nr of show posts is', len(show_posts))\n",
    "print('Nr of other posts is', len(other_posts))"
   ]
  },
  {
   "cell_type": "code",
   "execution_count": 4,
   "metadata": {},
   "outputs": [
    {
     "data": {
      "text/plain": [
       "[['10627194',\n",
       "  'Show HN: Wio Link  ESP8266 Based Web of Things Hardware Development Platform',\n",
       "  'https://iot.seeed.cc',\n",
       "  '26',\n",
       "  '22',\n",
       "  'kfihihc',\n",
       "  '11/25/2015 14:03'],\n",
       " ['10646440',\n",
       "  'Show HN: Something pointless I made',\n",
       "  'http://dn.ht/picklecat/',\n",
       "  '747',\n",
       "  '102',\n",
       "  'dhotson',\n",
       "  '11/29/2015 22:46'],\n",
       " ['11590768',\n",
       "  'Show HN: Shanhu.io, a programming playground powered by e8vm',\n",
       "  'https://shanhu.io',\n",
       "  '1',\n",
       "  '1',\n",
       "  'h8liu',\n",
       "  '4/28/2016 18:05'],\n",
       " ['12178806',\n",
       "  'Show HN: Webscope  Easy way for web developers to communicate with Clients',\n",
       "  'http://webscopeapp.com',\n",
       "  '3',\n",
       "  '3',\n",
       "  'fastbrick',\n",
       "  '7/28/2016 7:11'],\n",
       " ['10872799',\n",
       "  'Show HN: GeoScreenshot  Easily test Geo-IP based web pages',\n",
       "  'https://www.geoscreenshot.com/',\n",
       "  '1',\n",
       "  '9',\n",
       "  'kpsychwave',\n",
       "  '1/9/2016 20:45']]"
      ]
     },
     "execution_count": 4,
     "metadata": {},
     "output_type": "execute_result"
    }
   ],
   "source": [
    "# Displaying first 5 rows of each list:\n",
    "ask_posts[:5]\n",
    "show_posts[:5]"
   ]
  },
  {
   "cell_type": "markdown",
   "metadata": {},
   "source": [
    "### Part 2 - Which category of posts receive the most comments?\n",
    "\n",
    "To do this, we're going to compute the average number of comments for each category.\n",
    "\n",
    "In this section, we will make use of for loops for each category, then compute the average and compare."
   ]
  },
  {
   "cell_type": "code",
   "execution_count": 5,
   "metadata": {},
   "outputs": [
    {
     "name": "stdout",
     "output_type": "stream",
     "text": [
      "average nr of ask posts comments is 14.038417431192661\n",
      "average nr of show posts comments is 10.31669535283993\n"
     ]
    }
   ],
   "source": [
    "#Finding total nr of comments in ask posts:\n",
    "\n",
    "total_ask_comments = 0\n",
    "for row in ask_posts:\n",
    "    total_ask_comments += int(row[4])\n",
    "    \n",
    "avg_ask_comments = total_ask_comments / len(ask_posts)\n",
    "print('average nr of ask posts comments is', avg_ask_comments)\n",
    "\n",
    "#Finding total nr of comments in show posts:\n",
    "\n",
    "total_show_comments = 0\n",
    "for row in show_posts:\n",
    "    total_show_comments += int(row[4])\n",
    "\n",
    "avg_show_comments = total_show_comments / len(show_posts)\n",
    "print('average nr of show posts comments is', avg_show_comments)"
   ]
  },
  {
   "cell_type": "markdown",
   "metadata": {},
   "source": [
    "The results above show that on average, **Ask Posts (14)** get more feedback by comments than Show Posts (10)."
   ]
  },
  {
   "cell_type": "markdown",
   "metadata": {},
   "source": [
    "### Part 3 - Does time affect the amount of feedback posts receive?\n",
    "\n",
    "The next interesting analogy is to check whether the time at which the post is uploaded has any effect on the level of feedback that the post might receive, be it by comments or upvotes.\n",
    "\n",
    "In this part, we have used the `datetime` module to parse the data from the **Date** column in our dataset, which has an index number of 0. \n",
    "\n",
    "Furthermore, 2 dictionaries were created - one for the comments and one for the counts, relative to the hour, in 24-hr format."
   ]
  },
  {
   "cell_type": "code",
   "execution_count": 6,
   "metadata": {
    "scrolled": false
   },
   "outputs": [
    {
     "name": "stdout",
     "output_type": "stream",
     "text": [
      "the nr of comments on ask posts by the hour are:\n"
     ]
    },
    {
     "data": {
      "text/plain": [
       "{'09': 251,\n",
       " '13': 1253,\n",
       " '10': 793,\n",
       " '14': 1416,\n",
       " '16': 1814,\n",
       " '23': 543,\n",
       " '12': 687,\n",
       " '17': 1146,\n",
       " '15': 4477,\n",
       " '21': 1745,\n",
       " '20': 1722,\n",
       " '02': 1381,\n",
       " '18': 1439,\n",
       " '03': 421,\n",
       " '05': 464,\n",
       " '19': 1188,\n",
       " '01': 683,\n",
       " '22': 479,\n",
       " '08': 492,\n",
       " '04': 337,\n",
       " '00': 447,\n",
       " '06': 397,\n",
       " '07': 267,\n",
       " '11': 641}"
      ]
     },
     "execution_count": 6,
     "metadata": {},
     "output_type": "execute_result"
    }
   ],
   "source": [
    "# Screen 5/8\n",
    "# Importing datetime module as dt\n",
    "\n",
    "import datetime as dt\n",
    "\n",
    "result_list = []\n",
    "for posts in ask_posts:\n",
    "    created = posts[6]\n",
    "    comments = int(posts[4])\n",
    "    result_list.append([created, comments])\n",
    "\n",
    "counts_by_hour = {}\n",
    "comments_by_hour = {}\n",
    "date_format = '%m/%d/%Y %H:%M'\n",
    "\n",
    "for row in result_list:\n",
    "    date = row[0]\n",
    "    comment = row[1]\n",
    "    date_obj = dt.datetime.strptime(date, date_format).strftime(\"%H\")\n",
    "    if date_obj not in counts_by_hour:\n",
    "        counts_by_hour[date_obj] = 1\n",
    "        comments_by_hour[date_obj] = comment\n",
    "    else:\n",
    "        counts_by_hour[date_obj] += 1\n",
    "        comments_by_hour[date_obj] += comment\n",
    "\n",
    "print('the nr of comments on ask posts by the hour are:')\n",
    "comments_by_hour\n"
   ]
  },
  {
   "cell_type": "markdown",
   "metadata": {},
   "source": [
    "**Result**: From the output above, one can immediately note that Ask Posts uploaded in the afternoon, specifically between 13:00 and 19:00 generate the most feedback, peaking at 15:00.\n",
    "\n",
    "On the contrary, posts uploaded during the night (22:00 - 07:00) generate the least frequency of feedback by comments. However, there seems to be an abnormality at 02:00, which has generated a lot of interest.\n",
    "\n",
    "This result can also be exhibited by calculating the average comments by the hour:"
   ]
  },
  {
   "cell_type": "code",
   "execution_count": 7,
   "metadata": {},
   "outputs": [
    {
     "data": {
      "text/plain": [
       "[['09', 5.5777777777777775],\n",
       " ['13', 14.741176470588234],\n",
       " ['10', 13.440677966101696],\n",
       " ['14', 13.233644859813085],\n",
       " ['16', 16.796296296296298],\n",
       " ['23', 7.985294117647059],\n",
       " ['12', 9.41095890410959],\n",
       " ['17', 11.46],\n",
       " ['15', 38.5948275862069],\n",
       " ['21', 16.009174311926607],\n",
       " ['20', 21.525],\n",
       " ['02', 23.810344827586206],\n",
       " ['18', 13.20183486238532],\n",
       " ['03', 7.796296296296297],\n",
       " ['05', 10.08695652173913],\n",
       " ['19', 10.8],\n",
       " ['01', 11.383333333333333],\n",
       " ['22', 6.746478873239437],\n",
       " ['08', 10.25],\n",
       " ['04', 7.170212765957447],\n",
       " ['00', 8.127272727272727],\n",
       " ['06', 9.022727272727273],\n",
       " ['07', 7.852941176470588],\n",
       " ['11', 11.051724137931034]]"
      ]
     },
     "execution_count": 7,
     "metadata": {},
     "output_type": "execute_result"
    }
   ],
   "source": [
    "avg_by_hour = []\n",
    "\n",
    "for hr in comments_by_hour:\n",
    "    avg_by_hour.append([hr, comments_by_hour[hr] / counts_by_hour[hr]])\n",
    "\n",
    "avg_by_hour"
   ]
  },
  {
   "cell_type": "code",
   "execution_count": 8,
   "metadata": {},
   "outputs": [
    {
     "name": "stdout",
     "output_type": "stream",
     "text": [
      "[[5.5777777777777775, '09'], [14.741176470588234, '13'], [13.440677966101696, '10'], [13.233644859813085, '14'], [16.796296296296298, '16'], [7.985294117647059, '23'], [9.41095890410959, '12'], [11.46, '17'], [38.5948275862069, '15'], [16.009174311926607, '21'], [21.525, '20'], [23.810344827586206, '02'], [13.20183486238532, '18'], [7.796296296296297, '03'], [10.08695652173913, '05'], [10.8, '19'], [11.383333333333333, '01'], [6.746478873239437, '22'], [10.25, '08'], [7.170212765957447, '04'], [8.127272727272727, '00'], [9.022727272727273, '06'], [7.852941176470588, '07'], [11.051724137931034, '11']]\n",
      "Top 5 hours for Ask Posts Comments\n",
      "15:00: 38.59 average comments per post\n",
      "02:00: 23.81 average comments per post\n",
      "20:00: 21.52 average comments per post\n",
      "16:00: 16.80 average comments per post\n",
      "21:00: 16.01 average comments per post\n"
     ]
    }
   ],
   "source": [
    "swap_avg_by_hour = []\n",
    "\n",
    "for rows in avg_by_hour:\n",
    "    a = rows[1]\n",
    "    b = rows[0]\n",
    "    swap_avg_by_hour.append([a,b])\n",
    "    \n",
    "print(swap_avg_by_hour)\n",
    "sorted_swap = sorted(swap_avg_by_hour, reverse = True)\n",
    "\n",
    "print('Top 5 hours for Ask Posts Comments')\n",
    "\n",
    "for avg, hr in sorted_swap[:5]:\n",
    "    print('{}: {:.2f} average comments per post'.format(\n",
    "        dt.datetime.strptime(hr, '%H').strftime('%H:%M'), avg))\n",
    "    \n"
   ]
  },
  {
   "cell_type": "markdown",
   "metadata": {},
   "source": [
    "### Part 4 - Determine if show or ask posts receive more points on average\n",
    "\n",
    "It would also be interesting to determine which type of posts would be upvoted the most. In this next section, a simple calculation for the average number of counts for Ask Posts and Show Posts was executed separately, with the output listed underneath each section of code."
   ]
  },
  {
   "cell_type": "code",
   "execution_count": 13,
   "metadata": {},
   "outputs": [
    {
     "name": "stdout",
     "output_type": "stream",
     "text": [
      "The avg number of counts for Ask Posts is  15.061926605504587\n"
     ]
    }
   ],
   "source": [
    "# Finding average nr of counts for Ask Posts\n",
    "\n",
    "total_ask_counts = 0\n",
    "for row in ask_posts:\n",
    "    counts = int(row[3])\n",
    "    total_ask_counts += counts\n",
    "\n",
    "avg_ask_counts = total_ask_counts / len(ask_posts)\n",
    "print('The avg number of counts for Ask Posts is ',avg_ask_counts)"
   ]
  },
  {
   "cell_type": "code",
   "execution_count": 14,
   "metadata": {},
   "outputs": [
    {
     "name": "stdout",
     "output_type": "stream",
     "text": [
      "The avg number of counts for Show Posts is  27.555077452667813\n"
     ]
    }
   ],
   "source": [
    "# Finding average nr of counts for Show Posts:\n",
    "\n",
    "total_show_counts = 0\n",
    "for row in show_posts:\n",
    "    show_counts = int(row[3])\n",
    "    total_show_counts += show_counts\n",
    "    \n",
    "avg_show_counts = total_show_counts / len(show_posts)\n",
    "print('The avg number of counts for Show Posts is ',avg_show_counts)"
   ]
  },
  {
   "cell_type": "markdown",
   "metadata": {},
   "source": [
    "From the results above it is clear that Show Posts get more upvotes than Ask Posts. This can be understandable since people tend to *show* more appreciation for others' work - hence upvote it - then appreciating a simple question (Ask Post).\n",
    "\n",
    "On the other hand, it is also understandable that **Ask Posts** get more answers than Show Posts since users are actually looking for feedback in the form of an answer.\n",
    "\n",
    "### Part 5 - Are posts created at a certain time more upvoted than others?\n",
    "\n",
    "It could be that an article or post uploaded at a certain time might get more attention or upvotes than posts uploaded at a different time. \n",
    "For example, we already saw that posts uploaded at 3pm get more feedback, i.e. comments back than posts uploaded at any other time of day.\n",
    "\n",
    "In this section, we will see whether time has any effect on the upvotes a certain post may get.\n",
    "\n",
    "We will do this in the following order:\n",
    "* Ask Posts\n",
    "* Show Posts\n",
    "* Other Posts"
   ]
  },
  {
   "cell_type": "code",
   "execution_count": 34,
   "metadata": {},
   "outputs": [
    {
     "name": "stdout",
     "output_type": "stream",
     "text": [
      "the nr of counts on ask posts by the hour are:\n"
     ]
    },
    {
     "data": {
      "text/plain": [
       "{'09': 45,\n",
       " '13': 85,\n",
       " '10': 59,\n",
       " '14': 107,\n",
       " '16': 108,\n",
       " '23': 68,\n",
       " '12': 73,\n",
       " '17': 100,\n",
       " '15': 116,\n",
       " '21': 109,\n",
       " '20': 80,\n",
       " '02': 58,\n",
       " '18': 109,\n",
       " '03': 54,\n",
       " '05': 46,\n",
       " '19': 110,\n",
       " '01': 60,\n",
       " '22': 71,\n",
       " '08': 48,\n",
       " '04': 47,\n",
       " '00': 55,\n",
       " '06': 44,\n",
       " '07': 34,\n",
       " '11': 58}"
      ]
     },
     "execution_count": 34,
     "metadata": {},
     "output_type": "execute_result"
    }
   ],
   "source": [
    "import datetime as dt\n",
    "\n",
    "ask_list_counts_vs_time = []\n",
    "total=0\n",
    "\n",
    "# Checking for upvoting vs. time for Ask Posts\n",
    "for posts in ask_posts:\n",
    "    created = posts[6]\n",
    "    counts = int(posts[3])\n",
    "    ask_list_counts_vs_time.append([created, counts])\n",
    "    \n",
    "ask_counts_by_hour = {}\n",
    "ask_comments_by_hour = {}\n",
    "date_format = '%m/%d/%Y %H:%M'\n",
    "\n",
    "for row in ask_list_counts_vs_time:\n",
    "    date = row[0]\n",
    "    count = row[1]\n",
    "    created_obj = dt.datetime.strptime(date, date_format).strftime('%H')\n",
    "    if created_obj not in ask_counts_by_hour:\n",
    "        ask_counts_by_hour[created_obj] = 1\n",
    "        ask_comments_by_hour[created_obj] = count\n",
    "    else:\n",
    "        ask_counts_by_hour[created_obj] += 1\n",
    "        ask_comments_by_hour[created_obj] += count\n",
    "        \n",
    "print('the nr of counts on ask posts by the hour are:')\n",
    "ask_counts_by_hour  "
   ]
  },
  {
   "cell_type": "code",
   "execution_count": 20,
   "metadata": {},
   "outputs": [
    {
     "name": "stdout",
     "output_type": "stream",
     "text": [
      "the nr of counts on show posts by the hour are:\n"
     ]
    },
    {
     "data": {
      "text/plain": [
       "{'14': 86,\n",
       " '22': 46,\n",
       " '18': 61,\n",
       " '07': 26,\n",
       " '20': 60,\n",
       " '05': 19,\n",
       " '16': 93,\n",
       " '19': 55,\n",
       " '15': 78,\n",
       " '03': 27,\n",
       " '17': 93,\n",
       " '06': 16,\n",
       " '02': 30,\n",
       " '13': 99,\n",
       " '08': 34,\n",
       " '21': 47,\n",
       " '04': 26,\n",
       " '11': 44,\n",
       " '12': 61,\n",
       " '23': 36,\n",
       " '09': 30,\n",
       " '01': 28,\n",
       " '10': 36,\n",
       " '00': 31}"
      ]
     },
     "execution_count": 20,
     "metadata": {},
     "output_type": "execute_result"
    }
   ],
   "source": [
    "import datetime as dt\n",
    "\n",
    "show_list_counts_vs_time = []\n",
    "\n",
    "# Checking for upvoting vs. time for Show Posts\n",
    "for post in show_posts:\n",
    "    created = post[6]\n",
    "    counts = int(post[3])\n",
    "    show_list_counts_vs_time.append([created, counts])\n",
    "    \n",
    "show_counts_by_hour = {}\n",
    "show_comments_by_hour = {}\n",
    "date_format = '%m/%d/%Y %H:%M'\n",
    "\n",
    "for row in show_list_counts_vs_time:\n",
    "    date = row[0]\n",
    "    count = row[1]\n",
    "    show_created_obj = dt.datetime.strptime(date, date_format).strftime('%H')\n",
    "    if show_created_obj not in show_counts_by_hour:\n",
    "        show_counts_by_hour[show_created_obj] = 1\n",
    "        show_comments_by_hour[show_created_obj] = count\n",
    "    else:\n",
    "        show_counts_by_hour[show_created_obj] += 1\n",
    "        show_comments_by_hour[show_created_obj] += count\n",
    "        \n",
    "print('the nr of counts on show posts by the hour are:')\n",
    "show_counts_by_hour"
   ]
  },
  {
   "cell_type": "markdown",
   "metadata": {},
   "source": [
    "### Conclusion\n",
    "\n",
    "From the results above we can conclude the following points:-\n",
    "\n",
    "* Show posts uploaded between 13:00 and 17:00 are the most likely to get the highest number of upvotes.\n",
    "* Ask posts also get a high number of upvotes, especially those uploaded between 13:00 and 21:00. \n",
    "\n",
    "In fact, one can deduce that people spend more time looking at Ask Posts (13:00 - 21:00) rather than at Show Posts.\n"
   ]
  }
 ],
 "metadata": {
  "kernelspec": {
   "display_name": "Python 3",
   "language": "python",
   "name": "python3"
  },
  "language_info": {
   "codemirror_mode": {
    "name": "ipython",
    "version": 3
   },
   "file_extension": ".py",
   "mimetype": "text/x-python",
   "name": "python",
   "nbconvert_exporter": "python",
   "pygments_lexer": "ipython3",
   "version": "3.7.6"
  }
 },
 "nbformat": 4,
 "nbformat_minor": 2
}
